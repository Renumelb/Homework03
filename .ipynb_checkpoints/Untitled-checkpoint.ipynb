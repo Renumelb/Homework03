{
 "cells": [
  {
   "cell_type": "markdown",
   "id": "0d76d98e-afda-424c-8102-487568adafb1",
   "metadata": {},
   "source": [
    "To calculate the number of times an alphabet appears in a string\n",
    "Assumptions:\n",
    "- Only strings will be provided\n",
    "- No empty string will be provided\n",
    "\n",
    "Steps:\n",
    "- Create a function to count the alphabets\n",
    "- Set variables for the input string\n",
    "- Loop through the length of the message to determine each alphabet\n",
    "- Increment the counter for the alphabet when required\n",
    "- Create a dictioanry to hold the results\n",
    "- Print the results"
   ]
  },
  {
   "cell_type": "code",
   "execution_count": 7,
   "id": "f2d62546-ea59-4171-b682-88ac96dd81eb",
   "metadata": {},
   "outputs": [
    {
     "name": "stdout",
     "output_type": "stream",
     "text": [
      "{'T': 1, 'h': 2, 'i': 3, 's': 3, ' ': 2, 'r': 1, 'u': 1, 'b': 2}\n"
     ]
    }
   ],
   "source": [
    "def count_alpha(input_string):\n",
    "    alpha_dict = {}\n",
    "    for alpha in input_string:\n",
    "        if alpha not in alpha_dict:\n",
    "            alpha_dict[alpha] = 1\n",
    "        else:\n",
    "            alpha_dict[alpha] += 1\n",
    "    return(alpha_dict)       \n",
    "print(count_alpha('This is rubbish'))       \n",
    "        "
   ]
  },
  {
   "cell_type": "code",
   "execution_count": 13,
   "id": "205609ee-b9ae-455b-8be8-ec555da33646",
   "metadata": {},
   "outputs": [],
   "source": [
    "def ispalindrome(input_string):\n",
    "    return input_string == input_string[::-1]\n",
    "\n"
   ]
  },
  {
   "cell_type": "code",
   "execution_count": 15,
   "id": "09bf9c3e-7a60-4745-b2ad-ebf992d01095",
   "metadata": {},
   "outputs": [
    {
     "data": {
      "text/plain": [
       "True"
      ]
     },
     "execution_count": 15,
     "metadata": {},
     "output_type": "execute_result"
    }
   ],
   "source": [
    "ispalindrome('neveroddoreven')"
   ]
  },
  {
   "cell_type": "code",
   "execution_count": 24,
   "id": "20907877-5559-4315-aa9a-7a7262236274",
   "metadata": {},
   "outputs": [
    {
     "data": {
      "text/plain": [
       "True"
      ]
     },
     "execution_count": 24,
     "metadata": {},
     "output_type": "execute_result"
    }
   ],
   "source": [
    "def palindrome(string): \n",
    "    # Convert to lowercase\n",
    "    string = string.lower()\n",
    "    # Separate string into a list of words             \n",
    "    stripped_string = string.split(' ')\n",
    "    # Join the words into a single unbroken string\n",
    "    stripped_string = ('').join(stripped_string)\n",
    "    # Reverse the string\n",
    "    reversed_string = reversed(stripped_string)\n",
    "    reversed_string = ('').join(reversed_string)\n",
    "    # Compare a string with its inverse\n",
    "    if stripped_string == reversed_string:\n",
    "        return True\n",
    "    else:\n",
    "        return False\n",
    "palindrome('neveroddoreven')"
   ]
  },
  {
   "cell_type": "code",
   "execution_count": null,
   "id": "41ef074b-50c0-4c17-8695-fb5ebacc7c6b",
   "metadata": {},
   "outputs": [],
   "source": []
  }
 ],
 "metadata": {
  "kernelspec": {
   "display_name": "Python 3",
   "language": "python",
   "name": "python3"
  },
  "language_info": {
   "codemirror_mode": {
    "name": "ipython",
    "version": 3
   },
   "file_extension": ".py",
   "mimetype": "text/x-python",
   "name": "python",
   "nbconvert_exporter": "python",
   "pygments_lexer": "ipython3",
   "version": "3.8.8"
  }
 },
 "nbformat": 4,
 "nbformat_minor": 5
}
